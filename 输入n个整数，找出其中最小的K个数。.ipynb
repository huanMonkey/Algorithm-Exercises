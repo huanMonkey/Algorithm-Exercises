{
 "cells": [
  {
   "cell_type": "markdown",
   "metadata": {},
   "source": [
    "题目： \n",
    "输入n个整数，找出其中最小的K个数。例如输入4,5,1,6,2,7,3,8这8个数字，则最小的4个数字是1,2,3,4（结果不要求排序，4213也是允许的） "
   ]
  },
  {
   "cell_type": "code",
   "execution_count": 33,
   "metadata": {},
   "outputs": [],
   "source": [
    "def max_list(list_k,k):\n",
    "    max_k_val = list_k[0]\n",
    "    max_k_add = 0\n",
    "    i = 1\n",
    "    while( i < k):\n",
    "        if(list_k[i] > max_k_val):\n",
    "            max_k_val = list_k[i]\n",
    "            max_k_add = i\n",
    "        i += 1\n",
    "    return max_k_val,max_k_add"
   ]
  },
  {
   "cell_type": "markdown",
   "metadata": {},
   "source": [
    "思路描述： \n",
    "  1、确定一个k长度的集合，即 4516这四个元素。 \n",
    "  2、尝试添加2进去：找出现有list中最大的元素和2比较，即6与2比较，2小，故把2放在6的位置覆盖掉6，集合变成 4512 \n",
    "  3、尝试添加7进去：找出现有list中最大的元素和7比较，即5与7比较，7大，直接舍弃，集合不变仍为4512 \n",
    "  4、尝试添加3进去：找出现有list中最大的元素和3比较，即5与3比较，3小，故把3放在5的位置覆盖掉5，集合变成 4312 \n",
    "  5、尝试添加8进去：找出现有list中最大的元素和8比较，即4与8比较，8大，直接舍弃，集合不变仍为4312 \n",
    "  6、返回结果4312 "
   ]
  },
  {
   "cell_type": "code",
   "execution_count": 34,
   "metadata": {},
   "outputs": [],
   "source": [
    "def GetLeastNumbers_Solution(tinput, k):\n",
    "        \n",
    "    if ( k == 0 or k > len(tinput)):\n",
    "        return 0\n",
    "    elif (k == len(tinput)):\n",
    "        return tinput\n",
    "    else:\n",
    "        res = tinput[:k]\n",
    "        max_k_val,max_k_add = max_list(res,k)\n",
    "        print max_k_add\n",
    "        i = k\n",
    "        while (i < len(tinput)):\n",
    "            if(tinput[i] < max_k_val):\n",
    "                res[max_k_add] = tinput[i]\n",
    "                max_k_val,max_k_add = max_list(res,k)\n",
    "                print max_k_val\n",
    "            i += 1\n",
    "        return res"
   ]
  },
  {
   "cell_type": "code",
   "execution_count": 35,
   "metadata": {},
   "outputs": [
    {
     "name": "stdout",
     "output_type": "stream",
     "text": [
      "3\n",
      "5\n",
      "4\n"
     ]
    },
    {
     "data": {
      "text/plain": [
       "[4, 3, 1, 2]"
      ]
     },
     "execution_count": 35,
     "metadata": {},
     "output_type": "execute_result"
    }
   ],
   "source": [
    "GetLeastNumbers_Solution([4,5,1,6,2,7,3,8],4)"
   ]
  }
 ],
 "metadata": {
  "kernelspec": {
   "display_name": "Python 2",
   "language": "python",
   "name": "python2"
  },
  "language_info": {
   "codemirror_mode": {
    "name": "ipython",
    "version": 2
   },
   "file_extension": ".py",
   "mimetype": "text/x-python",
   "name": "python",
   "nbconvert_exporter": "python",
   "pygments_lexer": "ipython2",
   "version": "2.7.14"
  }
 },
 "nbformat": 4,
 "nbformat_minor": 2
}
