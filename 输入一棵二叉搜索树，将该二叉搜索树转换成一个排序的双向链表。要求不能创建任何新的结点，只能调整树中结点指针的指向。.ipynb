{
 "cells": [
  {
   "cell_type": "code",
   "execution_count": null,
   "metadata": {},
   "outputs": [],
   "source": []
  },
  {
   "cell_type": "code",
   "execution_count": null,
   "metadata": {},
   "outputs": [],
   "source": [
    "递归的方法，利用中序遍历，要使得可以成链表，就是要记录前一个\n",
    "# class TreeNode:\n",
    "#     def __init__(self, x):\n",
    "#         self.val = x\n",
    "#         self.left = None\n",
    "#         self.right = None\n",
    "class Solution:\n",
    "    def __init__(self):\n",
    "        self.pre = None\n",
    "    def Convert(self, pRootOfTree):\n",
    "        # write code here\n",
    "        if pRootOfTree is None:\n",
    "            return\n",
    "        self.Convert(pRootOfTree.left)\n",
    "        head = pRootOfTree\n",
    "        pRootOfTree.left = self.pre\n",
    "        if self.pre is not None:\n",
    "            self.pre.right = pRootOfTree\n",
    "        self.pre = pRootOfTree\n",
    "        self.Convert(pRootOfTree.right)\n",
    " \n",
    "        while head.left is not  None:\n",
    "            head = head.left\n",
    "        return head"
   ]
  }
 ],
 "metadata": {
  "kernelspec": {
   "display_name": "Python 2",
   "language": "python",
   "name": "python2"
  },
  "language_info": {
   "codemirror_mode": {
    "name": "ipython",
    "version": 2
   },
   "file_extension": ".py",
   "mimetype": "text/x-python",
   "name": "python",
   "nbconvert_exporter": "python",
   "pygments_lexer": "ipython2",
   "version": "2.7.14"
  }
 },
 "nbformat": 4,
 "nbformat_minor": 2
}
