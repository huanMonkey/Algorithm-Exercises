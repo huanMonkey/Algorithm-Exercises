{
 "cells": [
  {
   "cell_type": "markdown",
   "metadata": {},
   "source": [
    "题目描述\n",
    "输入一个整数数组，判断该数组是不是某二叉搜索树的后序遍历的结果。如果是则输出Yes,否则输出No。假设输入的数组的任意两个数字都互不相同。"
   ]
  },
  {
   "cell_type": "code",
   "execution_count": 4,
   "metadata": {},
   "outputs": [],
   "source": [
    "def IsBTS(a,l,r):\n",
    "    if l >= r:return True\n",
    "    i = r\n",
    "    while(i>l and a[i-1] > a[r]):\n",
    "        i -= 1\n",
    "    j  = i - 1\n",
    "    while(j >= l ):\n",
    "        if (a[j] > a[r]):\n",
    "            return False\n",
    "        j -= 1\n",
    "    return IsBTS(a,l,i-1) and IsBTS(a,i,r-1)"
   ]
  },
  {
   "cell_type": "code",
   "execution_count": 5,
   "metadata": {},
   "outputs": [],
   "source": [
    "def VerifySquenceOfBST(self, sequence):\n",
    "    # write code here\n",
    "    if(len(sequence) == 0): return False\n",
    "    else: return IsBTS(sequence,0,len(sequence)-1)"
   ]
  }
 ],
 "metadata": {
  "kernelspec": {
   "display_name": "Python 2",
   "language": "python",
   "name": "python2"
  },
  "language_info": {
   "codemirror_mode": {
    "name": "ipython",
    "version": 2
   },
   "file_extension": ".py",
   "mimetype": "text/x-python",
   "name": "python",
   "nbconvert_exporter": "python",
   "pygments_lexer": "ipython2",
   "version": "2.7.14"
  }
 },
 "nbformat": 4,
 "nbformat_minor": 2
}
