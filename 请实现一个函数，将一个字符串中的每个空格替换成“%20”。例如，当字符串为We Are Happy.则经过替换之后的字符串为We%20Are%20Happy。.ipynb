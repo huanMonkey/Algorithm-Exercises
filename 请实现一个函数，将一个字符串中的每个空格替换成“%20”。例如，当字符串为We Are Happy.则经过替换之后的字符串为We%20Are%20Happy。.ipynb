{
 "cells": [
  {
   "cell_type": "markdown",
   "metadata": {},
   "source": [
    "题：请实现一个函数，将一个字符串中的每个空格替换成“%20”。例如，当字符串为We Are Happy.则经过替换之后的字符串为We%20Are%20Happy。"
   ]
  },
  {
   "cell_type": "code",
   "execution_count": 2,
   "metadata": {},
   "outputs": [],
   "source": [
    "# 方法一：利用python自带的函数\n",
    "class Solution:\n",
    "    # s 源字符串\n",
    "    def replaceSpace(self, s):\n",
    "        # write code here\n",
    "#         字符串替换函数：str.replace(old,new,替换次数（可选）)\n",
    "#         需要注意 replace 不会改变原 string 的内容。\n",
    "        s = s.replace(\" \",\"%20\")\n",
    "        return s"
   ]
  },
  {
   "cell_type": "code",
   "execution_count": 13,
   "metadata": {},
   "outputs": [],
   "source": [
    "#方法二：注意循环替换时，字符串长度变了\n",
    "def replaceSpace(s):\n",
    "    # write code here\n",
    "    i = len(s) - 1\n",
    "    if(s[i] == \" \"):\n",
    "        s = s[:i]+\"%20\"\n",
    "    while i >= 0:\n",
    "        if (s[i] == \" \"):\n",
    "#             不允许这样赋值\n",
    "#             s[i] = \"%20\"\n",
    "            s = s[:i]+\"%20\"+s[i+1:]\n",
    "        i -= 1\n",
    "    return s\n",
    "        "
   ]
  },
  {
   "cell_type": "code",
   "execution_count": 16,
   "metadata": {},
   "outputs": [
    {
     "name": "stdout",
     "output_type": "stream",
     "text": [
      "we%20are%20l\n"
     ]
    }
   ],
   "source": [
    "print replaceSpace(\"we are l\")"
   ]
  }
 ],
 "metadata": {
  "kernelspec": {
   "display_name": "Python 2",
   "language": "python",
   "name": "python2"
  },
  "language_info": {
   "codemirror_mode": {
    "name": "ipython",
    "version": 2
   },
   "file_extension": ".py",
   "mimetype": "text/x-python",
   "name": "python",
   "nbconvert_exporter": "python",
   "pygments_lexer": "ipython2",
   "version": "2.7.14"
  }
 },
 "nbformat": 4,
 "nbformat_minor": 2
}
