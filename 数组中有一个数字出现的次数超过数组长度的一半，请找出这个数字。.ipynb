{
 "cells": [
  {
   "cell_type": "markdown",
   "metadata": {},
   "source": [
    "题目描述\n",
    "数组中有一个数字出现的次数超过数组长度的一半，请找出这个数字。例如输入一个长度为9的数组{1,2,3,2,2,2,5,4,2}。由于数字2在数组中出现了5次，\n",
    "超过数组长度的一半，因此输出2。如果不存在则输出0。"
   ]
  },
  {
   "cell_type": "code",
   "execution_count": 18,
   "metadata": {},
   "outputs": [],
   "source": [
    "#利用字典来记录dict[元素值]=元素出现次数\n",
    "def MoreThanHalfNum_Solution_1( numbers):\n",
    "    # write code here\n",
    "    a = {}\n",
    "    i = 0\n",
    "    len_num = len(numbers) / 2.0\n",
    "    length_numbers = len(numbers)\n",
    "    while( i < length_numbers):\n",
    "        a[numbers[i]] = 0\n",
    "        i += 1\n",
    "    i = 0\n",
    "    while( i < length_numbers):\n",
    "        a[numbers[i]] += 1\n",
    "        i += 1\n",
    "    j = 0\n",
    "    res= set()\n",
    "    while (j < length_numbers):\n",
    "        if(a[numbers[j]] > len_num):\n",
    "            res.add(numbers[j])\n",
    "        j += 1\n",
    "    if (len(res) == 0):\n",
    "        return 0\n",
    "    else:\n",
    "        return res"
   ]
  },
  {
   "cell_type": "code",
   "execution_count": 22,
   "metadata": {},
   "outputs": [
    {
     "name": "stdout",
     "output_type": "stream",
     "text": [
      "{2: 4, 4: 4}\n"
     ]
    },
    {
     "data": {
      "text/plain": [
       "0"
      ]
     },
     "execution_count": 22,
     "metadata": {},
     "output_type": "execute_result"
    }
   ],
   "source": [
    "# 采用阵地攻守的思想：\n",
    "# 第一个数字作为第一个士兵，守阵地；count = 1；遇到相同元素，count++;遇到不相同元素，即为敌人，同归于尽,count--；\n",
    "# 当遇到count为0的情况，又以新的i值作为守阵地的士兵，\n",
    "# 继续下去，到最后还留在阵地上的士兵，有可能是主元素。再加一次循环，记录这个士兵的个数看是否大于数组一半即可。\n",
    "def MoreThanHalfNum_Solution_2( numbers):\n",
    "    a = {}\n",
    "    i = 0\n",
    "    len_num = len(numbers) / 2.0\n",
    "    length_numbers = len(numbers)\n",
    "    while( i < length_numbers):\n",
    "        a[numbers[i]] = 0\n",
    "        i += 1\n",
    "    i = 0\n",
    "    while( i < length_numbers):\n",
    "        a[numbers[i]] += 1\n",
    "        i += 1\n",
    "    j = 0\n",
    "    res= set()\n",
    "    while (j < length_numbers):\n",
    "        if(a[numbers[j]] > len_num):\n",
    "            res.add(numbers[j])\n",
    "        j += 1\n",
    "    if (len(res) == 0):\n",
    "        return 0\n",
    "    else:\n",
    "        return res"
   ]
  }
 ],
 "metadata": {
  "kernelspec": {
   "display_name": "Python 2",
   "language": "python",
   "name": "python2"
  },
  "language_info": {
   "codemirror_mode": {
    "name": "ipython",
    "version": 2
   },
   "file_extension": ".py",
   "mimetype": "text/x-python",
   "name": "python",
   "nbconvert_exporter": "python",
   "pygments_lexer": "ipython2",
   "version": "2.7.14"
  }
 },
 "nbformat": 4,
 "nbformat_minor": 2
}
